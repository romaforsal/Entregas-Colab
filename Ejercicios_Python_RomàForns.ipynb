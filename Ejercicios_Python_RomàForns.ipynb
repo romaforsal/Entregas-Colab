{
  "nbformat": 4,
  "nbformat_minor": 0,
  "metadata": {
    "colab": {
      "provenance": [],
      "include_colab_link": true
    },
    "kernelspec": {
      "name": "python3",
      "display_name": "Python 3"
    },
    "language_info": {
      "name": "python"
    }
  },
  "cells": [
    {
      "cell_type": "markdown",
      "metadata": {
        "id": "view-in-github",
        "colab_type": "text"
      },
      "source": [
        "<a href=\"https://colab.research.google.com/github/romaforsal/Entregas-Colab/blob/main/Ejercicios_Python_Rom%C3%A0Forns.ipynb\" target=\"_parent\"><img src=\"https://colab.research.google.com/assets/colab-badge.svg\" alt=\"Open In Colab\"/></a>"
      ]
    },
    {
      "cell_type": "markdown",
      "source": [
        "# **Ejercicio 1**\n",
        "\n",
        "---\n",
        "\n"
      ],
      "metadata": {
        "id": "0fmG3rk9MbID"
      }
    },
    {
      "cell_type": "markdown",
      "source": [
        "Escribe un programa que llame 2 veces a la función print() para mostrar en líneas separadas tu nombre completo. En la 1ra línea aparecerá el nombre y en la siguiente los apellidos."
      ],
      "metadata": {
        "id": "6khvKPpSMqmn"
      }
    },
    {
      "cell_type": "code",
      "source": [
        "print(\"Romà\")\n",
        "print(\"Forns Salvador\")"
      ],
      "metadata": {
        "id": "1_842cs0s6XQ"
      },
      "execution_count": null,
      "outputs": []
    },
    {
      "cell_type": "markdown",
      "source": [
        "\n",
        "# **Ejercicio 2**\n",
        "\n",
        "---\n",
        "\n"
      ],
      "metadata": {
        "id": "zMU7XJAENBXr"
      }
    },
    {
      "cell_type": "markdown",
      "source": [
        "Modifica el programa anterior para que el nombre y los apellidos se muestren en la misma línea. Sigue llamando 2 veces a la función print(). Usa el parámetro end."
      ],
      "metadata": {
        "id": "F5X6wVe1NK2j"
      }
    },
    {
      "cell_type": "code",
      "source": [
        "print(\"Tu Nombre\", end=\" \")\n",
        "print(\"Tu Apellido\")"
      ],
      "metadata": {
        "id": "EDH-zIyLtoSv"
      },
      "execution_count": null,
      "outputs": []
    },
    {
      "cell_type": "markdown",
      "source": [
        "# **Ejercicio 3**\n",
        "\n",
        "---\n",
        "\n"
      ],
      "metadata": {
        "id": "eCy1OoKXNWaz"
      }
    },
    {
      "cell_type": "markdown",
      "source": [
        "Con un solo print() muestra tu nombre completo de forma que entre cada palabra aparezca un guión bajo o underscore (\"_\"). Usa el parámetro sep."
      ],
      "metadata": {
        "id": "-LtdCQSmNkLj"
      }
    },
    {
      "cell_type": "code",
      "source": [
        "print(\"Romà\", \"Forns\", \"Salvador\", sep=\"_\")"
      ],
      "metadata": {
        "id": "9E42qCUjtz5H"
      },
      "execution_count": null,
      "outputs": []
    },
    {
      "cell_type": "markdown",
      "source": [
        "# **Ejercicio 4**\n",
        "\n",
        "---\n",
        "\n"
      ],
      "metadata": {
        "id": "YKgFr9Y5jErR"
      }
    },
    {
      "cell_type": "markdown",
      "source": [
        "Modifica el programa anterior para que usando algún código de escape se muestre una palabra por línea. Sólo debes usar un print()."
      ],
      "metadata": {
        "id": "gJuJ_3iOjK-Y"
      }
    },
    {
      "cell_type": "code",
      "source": [
        "print(\"Romà\", \"Forns\", \"Salvador\", \"666777888\", sep=\"\\n\")"
      ],
      "metadata": {
        "id": "62lm1br0u0jn"
      },
      "execution_count": null,
      "outputs": []
    },
    {
      "cell_type": "markdown",
      "source": [
        "# **Ejercicio 5**\n",
        "\n",
        "---\n",
        "\n"
      ],
      "metadata": {
        "id": "ygA3cLQzj5on"
      }
    },
    {
      "cell_type": "markdown",
      "source": [
        "Modifica el programa anterior para añadir tu número de teléfono en una nueva línea. Sólo debes usar un print()."
      ],
      "metadata": {
        "id": "JG6whVBbkBTh"
      }
    },
    {
      "cell_type": "code",
      "source": [
        "print(\"Romà\", \"Forns\", \"Salvador\", sep=\"\\n\")"
      ],
      "metadata": {
        "id": "P_0r9pJ3xYC-"
      },
      "execution_count": null,
      "outputs": []
    },
    {
      "cell_type": "markdown",
      "source": [
        "# **Ejercicio 6**\n",
        "\n",
        "---\n",
        "\n"
      ],
      "metadata": {
        "id": "-zOD05WH0TJp"
      }
    },
    {
      "cell_type": "markdown",
      "source": [
        "Escribe en 2 columnas una lista de elementos. En la columna de la izquierda aparecerá el nombre de un producto y en la de la derecha su precio en euros (con decimales). Las palabras deben estar alineadas a la izquierda. Usa colores diferentes para los títulos de columna, para las frutas y para los importes.\n",
        "\n",
        "\n",
        "![Lista.png](data:image/png;base64,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)"
      ],
      "metadata": {
        "id": "7FFtN7DA0YNR"
      }
    },
    {
      "cell_type": "code",
      "source": [
        "RED = \"\\033[91m\"\n",
        "GREEN = \"\\033[92m\"\n",
        "BLUE = \"\\033[94m\"\n",
        "RESET = \"\\033[0m\"\n",
        "\n",
        "print(f\"{RED}{'Product':<10}{'Price (EUR)':<15}{RESET}\")\n",
        "print(\"-\" * 25)\n",
        "\n",
        "print(f\"{GREEN}{'Apple':<10}{RESET}{BLUE}{1.20:<15.2f}{RESET}\")\n",
        "print(f\"{GREEN}{'Banana':<10}{RESET}{BLUE}{0.75:<15.2f}{RESET}\")\n",
        "print(f\"{GREEN}{'Orange':<10}{RESET}{BLUE}{1.50:<15.2f}{RESET}\")\n",
        "print(f\"{GREEN}{'Grapes':<10}{RESET}{BLUE}{2.50:<15.2f}{RESET}\")\n",
        "print(f\"{GREEN}{'Mango':<10}{RESET}{BLUE}{2.00:<15.2f}{RESET}\")"
      ],
      "metadata": {
        "colab": {
          "base_uri": "https://localhost:8080/"
        },
        "id": "9s4otmTa00FG",
        "outputId": "7f963b00-190c-465e-96c3-a03b667e2b41"
      },
      "execution_count": 3,
      "outputs": [
        {
          "output_type": "stream",
          "name": "stdout",
          "text": [
            "\u001b[91mProduct   Price (EUR)    \u001b[0m\n",
            "-------------------------\n",
            "\u001b[92mApple     \u001b[0m\u001b[94m1.20           \u001b[0m\n",
            "\u001b[92mBanana    \u001b[0m\u001b[94m0.75           \u001b[0m\n",
            "\u001b[92mOrange    \u001b[0m\u001b[94m1.50           \u001b[0m\n",
            "\u001b[92mGrapes    \u001b[0m\u001b[94m2.50           \u001b[0m\n",
            "\u001b[92mMango     \u001b[0m\u001b[94m2.00           \u001b[0m\n"
          ]
        }
      ]
    },
    {
      "cell_type": "markdown",
      "source": [
        "# **Ejercicio 7**\n",
        "\n",
        "---\n",
        "\n"
      ],
      "metadata": {
        "id": "cVuHcbJ6rzO-"
      }
    },
    {
      "cell_type": "markdown",
      "source": [
        "Escribe un programa que calcule el precio final de un producto según:\n",
        "\n",
        "• La base imponible (precio antes de impuestos)\n",
        "\n",
        "• El tipo de IVA aplicado. Puede ser: general (21%), reducido (10%) o superreducido (4%).\n",
        "\n",
        "• El código promocional. Los códigos promocionales pueden ser: sinpromo (no se aplica promoción), mitad (el precio se reduce a la mitad), descfijo (se descuentan 5 euros) o porcentaje (se descuenta el 5%)."
      ],
      "metadata": {
        "id": "KadyJXRurwLG"
      }
    },
    {
      "cell_type": "code",
      "source": [
        "base_price = int(input(\"Introduzca la base imponible: \"))\n",
        "\n",
        "while True:\n",
        "  iva_type = input(\"Introduzca el tipo de IVA (general, reducido, superreducido): \").lower()\n",
        "  if iva_type == \"general\":\n",
        "      price_after_iva = base_price * 1.21\n",
        "      break\n",
        "  elif iva_type == \"reducido\":\n",
        "      price_after_iva = base_price * 1.10\n",
        "      break\n",
        "  elif iva_type == \"superreducido\":\n",
        "      price_after_iva = base_price * 1.04\n",
        "      break\n",
        "  else:\n",
        "      print(\"Invalid IVA type\")\n",
        "\n",
        "\n",
        "while True:\n",
        "  promo_code = input(\"Introduzca el codigo promocional (sinpromo, mitad, descfijo, porcentaje): \").lower()\n",
        "  if price_after_iva:\n",
        "      if promo_code == \"sinpromo\":\n",
        "          final_price = price_after_iva\n",
        "          break\n",
        "      elif promo_code == \"mitad\":\n",
        "          final_price = price_after_iva / 2\n",
        "          break\n",
        "      elif promo_code == \"desfijo\":\n",
        "          final_price = price_after_iva - 5\n",
        "          if final_price < 0:\n",
        "              final_price = 0\n",
        "          break\n",
        "      elif promo_code == \"porcentaje\":\n",
        "          final_price = price_after_iva * 0.95\n",
        "          break\n",
        "      else:\n",
        "          print(\"Invalid promotional code\")\n",
        "\n",
        "print(f\"The final price is: {final_price:.2f} euros\")"
      ],
      "metadata": {
        "colab": {
          "base_uri": "https://localhost:8080/"
        },
        "id": "eVdvlQPp8s1V",
        "outputId": "0b7b6c1b-f339-41e0-8032-0be90430e9c5"
      },
      "execution_count": 6,
      "outputs": [
        {
          "output_type": "stream",
          "name": "stdout",
          "text": [
            "Introduzca la base imponible: 40\n",
            "Introduzca el tipo de IVA (general, reducido, superreducido): a\n",
            "Invalid IVA type\n",
            "Introduzca el tipo de IVA (general, reducido, superreducido): superreducido\n",
            "Introduzca el codigo promocional (sinpromo, mitad, descfijo, porcentaje): mitad\n",
            "The final price is: 20.80 euros\n"
          ]
        }
      ]
    },
    {
      "cell_type": "markdown",
      "source": [
        "![image.png](data:image/png;base64,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)"
      ],
      "metadata": {
        "id": "e4Er4IFJsbzF"
      }
    },
    {
      "cell_type": "markdown",
      "source": [
        "# **Ejercicio 8**\n",
        "\n",
        "---\n",
        "\n"
      ],
      "metadata": {
        "id": "A2HiREn0tCA3"
      }
    },
    {
      "cell_type": "markdown",
      "source": [
        "Realiza un programa que:\n",
        "\n",
        "\n",
        "*   Pida números hasta que se introduzca un numero negativo\n",
        "*   Tras introducir un número negativo el programa deberá mostrar:\n",
        "    * Cuantos números se han introducido,\n",
        "    * la media de los impares y\n",
        "    * el mayor de los pares.\n",
        "\n",
        "El número negativo sólo se utiliza para indicar el final de la introducción de datos pero no se incluye en los cálculos.\n"
      ],
      "metadata": {
        "id": "XWl69zL5tIvG"
      }
    },
    {
      "cell_type": "code",
      "source": [
        "cont = 0\n",
        "sum_imp = 0\n",
        "cont_imp = 0\n",
        "mayor_par = 0\n",
        "\n",
        "while True:\n",
        "    num = int(input(\"Enter a number (enter a negative number to stop): \"))\n",
        "    if num < 0:\n",
        "        break\n",
        "    cont += 1\n",
        "    if num % 2 != 0:\n",
        "        sum_imp += num\n",
        "        cont_imp += 1\n",
        "    else:\n",
        "        if mayor_par == 0 or num > mayor_par:\n",
        "            mayor_par = num\n",
        "\n",
        "print(f\"\\nTotal de numeros (sin contar el negativo): {cont}\")\n",
        "\n",
        "if cont_imp > 0:\n",
        "    media_imp = sum_imp / cont_imp\n",
        "    print(f\"Media numeros impares: {media_imp:.2f}\")\n",
        "else:\n",
        "    print(\"No se han introducido numeros impares\")\n",
        "\n",
        "if mayor_par != 0:\n",
        "    print(f\"Numero par mas grande: {mayor_par}\")\n",
        "else:\n",
        "    print(\"No se han introducido numeros pares\")"
      ],
      "metadata": {
        "colab": {
          "base_uri": "https://localhost:8080/"
        },
        "id": "7Xs4vMrxNyht",
        "outputId": "f630dc3a-dbf5-4e5e-a999-176e455c69db"
      },
      "execution_count": 9,
      "outputs": [
        {
          "output_type": "stream",
          "name": "stdout",
          "text": [
            "Enter a number (enter a negative number to stop): 2\n",
            "Enter a number (enter a negative number to stop): 3\n",
            "Enter a number (enter a negative number to stop): 3\n",
            "Enter a number (enter a negative number to stop): 8\n",
            "Enter a number (enter a negative number to stop): 1\n",
            "Enter a number (enter a negative number to stop): 0\n",
            "Enter a number (enter a negative number to stop): -1\n",
            "\n",
            "Total numbers entered (excluding the negative): 6\n",
            "Average of odd numbers: 2.33\n",
            "Largest even number: 8\n"
          ]
        }
      ]
    },
    {
      "cell_type": "markdown",
      "source": [
        "# **Ejercicio 9**\n",
        "\n",
        "---\n",
        "\n"
      ],
      "metadata": {
        "id": "9O2S1fwoviEY"
      }
    },
    {
      "cell_type": "markdown",
      "source": [
        "Realiza un programa que intente adivinar una contraseña que el sistema conoce (la que tu decidas). Hay 3 oportunidades para conseguirlo. En cada intento fallido, el programa debe preguntar si quieres continuar o abandonar. Al finalizar los 3 intentos, si no se ha adivinado la contraseña debe aparecer un mensaje que indique que la cuenta se ha bloqueado, y que se debe contactar con el administrador para reactivarla."
      ],
      "metadata": {
        "id": "7Z4_FJtPvmf4"
      }
    },
    {
      "cell_type": "code",
      "source": [
        "contrasena_correcta = \"mi_contrasena_secreta\"\n",
        "intentos = 0\n",
        "intentos_maximos = 3\n",
        "\n",
        "while intentos < intentos_maximos:\n",
        "    intento_contrasena = input(f\"Intento {intentos + 1}/{intentos_maximos}. Introduce la contraseña: \")\n",
        "    if intento_contrasena == contrasena_correcta:\n",
        "        print(\"¡Contraseña adivinada con éxito!\")\n",
        "        break\n",
        "    else:\n",
        "        intentos += 1\n",
        "        if intentos < intentos_maximos:\n",
        "            continuar_juego = input(\"Contraseña incorrecta. ¿Quieres continuar? (si/no): \").lower()\n",
        "            if continuar_juego != \"si\":\n",
        "                print(\"Juego abandonado.\")\n",
        "                break\n",
        "        else:\n",
        "            print(\"Contraseña incorrecta. Has agotado tus intentos.\")\n",
        "            print(\"Cuenta bloqueada. Por favor, contacta al administrador para reactivarla.\")"
      ],
      "metadata": {
        "id": "lN_T_7U2P4HE"
      },
      "execution_count": null,
      "outputs": []
    },
    {
      "cell_type": "markdown",
      "source": [
        "# **Ejercicio 10**\n",
        "\n",
        "---\n",
        "\n"
      ],
      "metadata": {
        "id": "cnlRZ9Nsx-zp"
      }
    },
    {
      "cell_type": "markdown",
      "source": [
        "Escribe un programa que pida 8 palabras y las almacene en un array. A continuación, las\n",
        "palabras correspondientes a colores se deben almacenar al comienzo y las que no son colores\n",
        "a continuación. Los colores que conoce el programa deben estar en otro array y son los siguientes: verde, rojo, azul, amarillo, naranja, rosa, negro, blanco y morado."
      ],
      "metadata": {
        "id": "gqFNfU7ryC0I"
      }
    },
    {
      "cell_type": "code",
      "source": [
        "colores_conocidos = [\"verde\", \"rojo\", \"azul\", \"amarillo\", \"naranja\", \"rosa\", \"negro\", \"blanco\", \"morado\"]\n",
        "lista_palabras = []\n",
        "palabras_colores = []\n",
        "otras_palabras = []\n",
        "\n",
        "print(\"Por favor, introduce 8 palabras:\")\n",
        "\n",
        "for i in range(8):\n",
        "    palabra = input(f\"Introduce la palabra {i + 1}: \").lower()\n",
        "    lista_palabras.append(palabra)\n",
        "\n",
        "for palabra in lista_palabras:\n",
        "    if palabra in colores_conocidos:\n",
        "        palabras_colores.append(palabra)\n",
        "    else:\n",
        "        otras_palabras.append(palabra)\n",
        "\n",
        "# Combinar las listas con los colores primero\n",
        "palabras_ordenadas = palabras_colores + otras_palabras\n",
        "\n",
        "print(\"\\nPalabras ordenadas (colores primero):\")\n",
        "print(palabras_ordenadas)"
      ],
      "metadata": {
        "id": "ct3rVfxTQZBE"
      },
      "execution_count": null,
      "outputs": []
    },
    {
      "cell_type": "markdown",
      "source": [
        "# **Ejercicio 11**\n",
        "\n",
        "---\n",
        "\n"
      ],
      "metadata": {
        "id": "VIGzAV8syhgE"
      }
    },
    {
      "cell_type": "markdown",
      "source": [
        "Crea una función para el ejercicio 7. La función deberá recibir los siguientes parámetros (base imponible, tipo de IVA y código promocional) y mostrará por pantalla la información correspondiente.\n",
        "\n",
        "Crea una función para el ejercicio 10 que reciba como parámetro la password de sistema (que el usuario deberá intentar adivinar). La función deberá devolver un string que indique si se ha adinidado la contraseña o no, cuántos intentos se han realizado y si se ha bloqueado la cuenta (sólo en caso de que no se acierte la password)\n",
        "\n",
        "Crea un programa principal que llame a estas funciones. Hazlo mediante un menú de 2 opciones, más una 3ra para \"Salir\".\n",
        "\n",
        "El programa principal deberá interaccionar con el usuario (si es necesario) para obtener los parámetros de entrada que se necesiten y, en el caso del ejercicio 10, deberá recoger el string retornado y mostrarlo por pantalla."
      ],
      "metadata": {
        "id": "FHZ0ZC1Iymo8"
      }
    },
    {
      "cell_type": "code",
      "source": [
        "def calcular_precio_final(base_imponible, tipo_iva, codigo_promocional):\n",
        "    \"\"\"Calcula el precio final de un producto.\"\"\"\n",
        "\n",
        "    # Validar tipo de IVA\n",
        "    if tipo_iva not in [\"general\", \"reducido\", \"superreducido\"]:\n",
        "        return \"Error: Tipo de IVA inválido.\"\n",
        "\n",
        "    # Aplicar IVA\n",
        "    if tipo_iva == \"general\":\n",
        "        precio_despues_iva = base_imponible * 1.21\n",
        "    elif tipo_iva == \"reducido\":\n",
        "        precio_despues_iva = base_imponible * 1.10\n",
        "    elif tipo_iva == \"superreducido\":\n",
        "        precio_despues_iva = base_imponible * 1.04\n",
        "\n",
        "    # Validar código promocional\n",
        "    if codigo_promocional not in [\"sinpromo\", \"mitad\", \"descfijo\", \"porcentaje\"]:\n",
        "        return \"Error: Código promocional inválido.\"\n",
        "\n",
        "    # Aplicar código promocional\n",
        "    if codigo_promocional == \"sinpromo\":\n",
        "        precio_final = precio_despues_iva\n",
        "    elif codigo_promocional == \"mitad\":\n",
        "        precio_final = precio_despues_iva / 2\n",
        "    elif codigo_promocional == \"descfijo\":\n",
        "        precio_final = precio_despues_iva - 5\n",
        "        if precio_final < 0:\n",
        "            precio_final = 0  # Asegurar que el precio no sea negativo\n",
        "    elif codigo_promocional == \"porcentaje\":\n",
        "        precio_final = precio_despues_iva * 0.95\n",
        "\n",
        "    return precio_final\n",
        "\n",
        "def juego_adivinar_contrasena(contrasena_sistema):\n",
        "    \"\"\"Juego para adivinar la contraseña del sistema.\"\"\"\n",
        "    intentos = 0\n",
        "    intentos_maximos = 3\n",
        "\n",
        "    while intentos < intentos_maximos:\n",
        "        intento_contrasena = input(f\"Intento {intentos + 1}/{intentos_maximos}. Introduce la contraseña: \")\n",
        "        if intento_contrasena == contrasena_sistema:\n",
        "            return f\"¡Contraseña adivinada con éxito en {intentos + 1} intentos!\"\n",
        "        else:\n",
        "            intentos += 1\n",
        "            if intentos < intentos_maximos:\n",
        "                continuar_juego = input(\"Contraseña incorrecta. ¿Quieres continuar? (si/no): \").lower()\n",
        "                if continuar_juego != \"si\":\n",
        "                    return f\"Juego abandonado después de {intentos} intentos.\"\n",
        "            else:\n",
        "                return f\"Contraseña incorrecta. Has agotado tus intentos ({intentos}). Cuenta bloqueada.\"\n",
        "    return \"\" # Should not reach here\n",
        "\n",
        "while True:\n",
        "    print(\"\\n--- Menú ---\")\n",
        "    print(\"1. Calcular precio final de producto\")\n",
        "    print(\"2. Juego de adivinar contraseña\")\n",
        "    print(\"3. Salir\")\n",
        "\n",
        "    opcion = input(\"Selecciona una opción: \")\n",
        "\n",
        "    if opcion == \"1\":\n",
        "        try:\n",
        "            base_imponible = float(input(\"Introduce la base imponible: \"))\n",
        "            tipo_iva = input(\"Introduce el tipo de IVA (general, reducido, superreducido): \").lower()\n",
        "            codigo_promocional = input(\"Introduce el código promocional (sinpromo, mitad, descfijo, porcentaje): \").lower()\n",
        "            resultado = calcular_precio_final(base_imponible, tipo_iva, codigo_promocional)\n",
        "            if isinstance(resultado, str):\n",
        "                print(resultado)\n",
        "            else:\n",
        "                print(f\"El precio final es: {resultado:.2f} euros\")\n",
        "        except ValueError:\n",
        "            print(\"Entrada inválida para la base imponible. Por favor, introduce un número.\")\n",
        "    elif opcion == \"2\":\n",
        "        contrasena_secreta = \"mi_contrasena_secreta\" # Define la contraseña aquí\n",
        "        mensaje_resultado = juego_adivinar_contrasena(contrasena_secreta)\n",
        "        print(mensaje_resultado)\n",
        "    elif opcion == \"3\":\n",
        "        print(\"Saliendo del programa.\")\n",
        "        break\n",
        "    else:\n",
        "        print(\"Opción no válida. Por favor, selecciona una opción del 1 al 3.\")"
      ],
      "metadata": {
        "colab": {
          "base_uri": "https://localhost:8080/"
        },
        "id": "UjlOdC-kRM5U",
        "outputId": "935c196a-e7d6-44de-a82b-43afb1dfa726"
      },
      "execution_count": 10,
      "outputs": [
        {
          "output_type": "stream",
          "name": "stdout",
          "text": [
            "\n",
            "--- Menú ---\n",
            "1. Calcular precio final de producto\n",
            "2. Juego de adivinar contraseña\n",
            "3. Salir\n",
            "Selecciona una opción: 1\n",
            "Introduce la base imponible: 6\n",
            "Introduce el tipo de IVA (general, reducido, superreducido): general\n",
            "Introduce el código promocional (sinpromo, mitad, descfijo, porcentaje): descfijo\n",
            "El precio final es: 2.26 euros\n",
            "\n",
            "--- Menú ---\n",
            "1. Calcular precio final de producto\n",
            "2. Juego de adivinar contraseña\n",
            "3. Salir\n",
            "Selecciona una opción: 3\n",
            "Saliendo del programa.\n"
          ]
        }
      ]
    },
    {
      "cell_type": "markdown",
      "source": [
        "# **Ejercicio 12**\n",
        "\n",
        "---\n"
      ],
      "metadata": {
        "id": "eLNzha5h64UE"
      }
    },
    {
      "cell_type": "markdown",
      "source": [
        "Crea la clase coche de M3 en Python"
      ],
      "metadata": {
        "id": "Rzm6xUiV7ASS"
      }
    },
    {
      "cell_type": "code",
      "source": [
        "class CocheM3:\n",
        "    \"\"\"A basic class to represent a car.\"\"\"\n",
        "\n",
        "    def __init__(self, marca, modelo, año, color):\n",
        "        \"\"\"Initializes the car attributes.\"\"\"\n",
        "        self.marca = marca\n",
        "        self.modelo = modelo\n",
        "        self.año = año\n",
        "        self.color = color\n",
        "\n",
        "    def mostrar_informacion(self):\n",
        "        \"\"\"Displays the car's information.\"\"\"\n",
        "        print(\"Información del Coche:\")\n",
        "        print(f\"  Marca: {self.marca}\")\n",
        "        print(f\"  Modelo: {self.modelo}\")\n",
        "        print(f\"  Año: {self.año}\")\n",
        "        print(f\"  Color: {self.color}\")\n",
        "\n",
        "\n",
        "def main():\n",
        "    my_car = None\n",
        "\n",
        "    while True:\n",
        "        print(\"\\n--- Menú Coche M3 ---\")\n",
        "        print(\"1. Crear Coche\")\n",
        "        print(\"2. Mostrar Información del Coche\")\n",
        "        print(\"3. Salir\")\n",
        "\n",
        "        opcion = input(\"Selecciona una opción: \")\n",
        "\n",
        "        if opcion == \"1\":\n",
        "            marca = input(\"Introduce la marca del coche: \")\n",
        "            modelo = input(\"Introduce el modelo del coche: \")\n",
        "            try:\n",
        "                año = int(input(\"Introduce el año del coche: \"))\n",
        "            except ValueError:\n",
        "                print(\"Entrada inválida para el año. Por favor, introduce un número entero.\")\n",
        "                continue\n",
        "            color = input(\"Introduce el color del coche: \")\n",
        "            my_car = CocheM3(marca, modelo, año, color)\n",
        "            print(\"¡Coche creado con éxito!\")\n",
        "        elif opcion == \"2\":\n",
        "            if my_car:\n",
        "                my_car.mostrar_informacion()\n",
        "            else:\n",
        "                print(\"Primero debes crear un coche (Opción 1).\")\n",
        "        elif opcion == \"3\":\n",
        "            print(\"Saliendo del programa.\")\n",
        "            break\n",
        "        else:\n",
        "            print(\"Opción no válida. Por favor, selecciona una opción del 1 al 3.\")\n",
        "\n",
        "if __name__ == \"__main__\":\n",
        "    main()"
      ],
      "metadata": {
        "id": "mvJroIm5VODz"
      },
      "execution_count": 11,
      "outputs": []
    }
  ]
}